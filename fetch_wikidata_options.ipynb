{
 "cells": [
  {
   "cell_type": "code",
   "execution_count": null,
   "metadata": {
    "id": "HuszRCaO2mg6"
   },
   "outputs": [],
   "source": [
    "import requests\n",
    "import pandas as pd\n",
    "import os\n",
    "import json"
   ]
  },
  {
   "cell_type": "code",
   "execution_count": null,
   "metadata": {
    "id": "MKoqHKV-20a3"
   },
   "outputs": [],
   "source": [
    "# change to llama_stage1_inference.jsonl in case you are running for llama2. This is the output generated from stage 1.\n",
    "# in case you are planning to train the adapter, then you can run this on train.jsonl and val.jsonl\n",
    "with open('beluga_stage1_inference.jsonl', 'r') as json_file: \n",
    "    json_data = json.load(json_file)\n",
    "\n",
    "df = pd.DataFrame(json_data)"
   ]
  },
  {
   "cell_type": "code",
   "execution_count": null,
   "metadata": {
    "id": "EHbsnWkz3_o2"
   },
   "outputs": [],
   "source": [
    "def search_wikidata_entities(search_string):\n",
    "    url = \"https://www.wikidata.org/w/api.php\"\n",
    "    params = {\n",
    "        \"action\": \"wbsearchentities\",\n",
    "        \"format\": \"json\",\n",
    "        \"language\": \"en\",\n",
    "        \"search\": search_string\n",
    "    }\n",
    "    try:\n",
    "        response = requests.get(url, params=params)\n",
    "        response.raise_for_status() \n",
    "\n",
    "        data = response.json()\n",
    "        search_results = data.get(\"search\", [])\n",
    "        formatted_results = []\n",
    "        WikiTitleIndex = []\n",
    "\n",
    "        for result in search_results:\n",
    "            label = result.get(\"display\", {}).get(\"label\", {}).get(\"value\", \"\")\n",
    "            description = result.get(\"display\", {}).get(\"description\", {}).get(\"value\", \"\")\n",
    "            label_desc = f\"{label} - {description}\"\n",
    "            formatted_results.append(label_desc)\n",
    "            WikiTitleIndex.append(result[\"id\"])\n",
    "\n",
    "        return formatted_results, WikiTitleIndex\n",
    "    except requests.exceptions.RequestException as e:\n",
    "        print(f\"Error: Request failed - {e}\")\n",
    "        return [], []"
   ]
  },
  {
   "cell_type": "code",
   "execution_count": null,
   "metadata": {
    "id": "HZQlI4fZ4c44"
   },
   "outputs": [],
   "source": [
    "def apply_search(row):\n",
    "    search_strings = row[\"ObjectEntities\"]\n",
    "\n",
    "    formatted_results = []\n",
    "    WikiTitleIndexes = []\n",
    "\n",
    "    for search in search_strings:\n",
    "        if not search:\n",
    "            formatted_results.append([None])\n",
    "            continue\n",
    "        formatted_result, WikiTitleIndex = search_wikidata_entities(search)\n",
    "        formatted_results.append(formatted_result)\n",
    "        WikiTitleIndexes.append(WikiTitleIndex)\n",
    "\n",
    "    return formatted_results, WikiTitleIndexes"
   ]
  },
  {
   "cell_type": "code",
   "execution_count": null,
   "metadata": {
    "colab": {
     "base_uri": "https://localhost:8080/"
    },
    "id": "epM8BImq4kOF",
    "outputId": "190ac4e5-fe0c-4ed8-fe0d-596f3f36fc6c"
   },
   "outputs": [],
   "source": [
    "for index, row in df.iterrows():\n",
    "    print(index)\n",
    "\n",
    "    formatted_results, WikiTitleIndexes = apply_search(row)\n",
    "\n",
    "    if \"WikiTitles\" not in df.columns:\n",
    "        df[\"WikiTitles\"] = None\n",
    "    if \"WikiTitleIndexes\" not in df.columns:\n",
    "        df[\"WikiTitleIndexes\"] = None\n",
    "\n",
    "    df.at[index, \"WikiTitles\"] = formatted_results\n",
    "    df.at[index, \"WikiTitleIndexes\"] = WikiTitleIndexes\n",
    "\n",
    "print(\"Processing completed.\")"
   ]
  },
  {
   "cell_type": "code",
   "execution_count": null,
   "metadata": {
    "id": "ASX0FpXI4pQX"
   },
   "outputs": [],
   "source": [
    "#this is the path which stage2 inference file is expecting\n",
    "df.to_csv(\"beluga_with_wikidata_info.csv\") #change to llama_with_wikidata_info.csv if running for llama2\n",
    "#in case you ran it for generating training files, then change this to train_df_with_candidates.csv and val_df_with_candidates.csv"
   ]
  }
 ],
 "metadata": {
  "colab": {
   "provenance": []
  },
  "kernelspec": {
   "display_name": "Python 3 (ipykernel)",
   "language": "python",
   "name": "python3"
  },
  "language_info": {
   "codemirror_mode": {
    "name": "ipython",
    "version": 3
   },
   "file_extension": ".py",
   "mimetype": "text/x-python",
   "name": "python",
   "nbconvert_exporter": "python",
   "pygments_lexer": "ipython3",
   "version": "3.10.9"
  }
 },
 "nbformat": 4,
 "nbformat_minor": 1
}
