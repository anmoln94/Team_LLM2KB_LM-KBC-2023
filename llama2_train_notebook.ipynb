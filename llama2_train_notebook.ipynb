{
 "cells": [
  {
   "cell_type": "code",
   "execution_count": null,
   "id": "811d1f22",
   "metadata": {},
   "outputs": [],
   "source": [
    "import torch\n",
    "import pandas as pd\n",
    "from transformers import AutoTokenizer, AutoModelForCausalLM, TrainingArguments\n",
    "from trl import SFTTrainer\n",
    "from peft import LoraConfig, get_peft_model\n",
    "from datasets import Dataset\n",
    "from transformers import BitsAndBytesConfig"
   ]
  },
  {
   "cell_type": "code",
   "execution_count": null,
   "id": "388509af",
   "metadata": {},
   "outputs": [],
   "source": [
    "train_df = pd.read_csv('train_combined_llama.csv')\n",
    "test_df = pd.read_csv('val_combined_llama.csv')\n",
    "\n",
    "combine_train_val_for_training = 'method1' #this corresponds to method 1 and method 2 described in the paper\n",
    "\n",
    "if combine_train_val_for_training=='method1':\n",
    "    train_df_combined = pd.concat([train_df,test_df[:-1000]])\n",
    "    test_df_combined = test_df[-1000:]\n",
    "else:\n",
    "    train_df_combined = train_df\n",
    "    test_df_combined = test_df"
   ]
  },
  {
   "cell_type": "code",
   "execution_count": null,
   "id": "79664bd6",
   "metadata": {},
   "outputs": [],
   "source": [
    "train_ds = Dataset.from_dict(train_df_combined)\n",
    "test_ds = Dataset.from_dict(test_df_combined)"
   ]
  },
  {
   "cell_type": "code",
   "execution_count": null,
   "id": "c8ad66d8",
   "metadata": {},
   "outputs": [],
   "source": [
    "bnb_config = BitsAndBytesConfig(\n",
    "    load_in_4bit=True,\n",
    "    bnb_4bit_use_double_quant=True,\n",
    "    bnb_4bit_quant_type=\"nf4\",\n",
    "    bnb_4bit_compute_dtype=torch.bfloat16\n",
    ")"
   ]
  },
  {
   "cell_type": "code",
   "execution_count": null,
   "id": "c08f5c3f",
   "metadata": {},
   "outputs": [],
   "source": [
    "tokenizer_path = 'meta-llama/Llama-2-13b-chat-hf'\n",
    "model_path = 'meta-llama/Llama-2-13b-chat-hf'\n",
    "\n",
    "#change cache_dir path if you already have the meta-llama/Llama-2-13b-chat-hf downloaded\n",
    "tokenizer = AutoTokenizer.from_pretrained(tokenizer_path,cache_dir=\"./model_cache_folder/\")\n",
    "model = AutoModelForCausalLM.from_pretrained(model_path,cache_dir=\"./model_cache_folder/\",\n",
    "                                            device_map='auto',quantization_config=bnb_config,use_cache=False)"
   ]
  },
  {
   "cell_type": "code",
   "execution_count": null,
   "id": "6821ba2a",
   "metadata": {},
   "outputs": [],
   "source": [
    "tokenizer.pad_token = '给'\n",
    "tokenizer.padding_side = \"right\""
   ]
  },
  {
   "cell_type": "code",
   "execution_count": null,
   "id": "239c4bd1",
   "metadata": {},
   "outputs": [],
   "source": [
    "peft_config = LoraConfig(\n",
    "        lora_alpha=16,\n",
    "        lora_dropout=0.05,\n",
    "        r=4,\n",
    "        bias=\"none\",\n",
    "        task_type=\"CAUSAL_LM\",\n",
    ")\n",
    "model = get_peft_model(model, peft_config)"
   ]
  },
  {
   "cell_type": "code",
   "execution_count": null,
   "id": "fc3df50c",
   "metadata": {},
   "outputs": [],
   "source": [
    "def print_trainable_parameters(model):\n",
    "    \"\"\"\n",
    "    Prints the number of trainable parameters in the model.\n",
    "    \"\"\"\n",
    "    trainable_params = 0\n",
    "    all_param = 0\n",
    "    for _, param in model.named_parameters():\n",
    "        all_param += param.numel()\n",
    "        if param.requires_grad:\n",
    "            trainable_params += param.numel()\n",
    "    print(\n",
    "        f\"trainable params: {trainable_params} || all params: {all_param} || trainable%: {100 * trainable_params / all_param}\"\n",
    "    )\n",
    "print_trainable_parameters(model)"
   ]
  },
  {
   "cell_type": "code",
   "execution_count": null,
   "id": "cb2d4c34",
   "metadata": {},
   "outputs": [],
   "source": [
    "args = TrainingArguments(\n",
    "    output_dir=\"./llama2_13b_3ep\",\n",
    "    num_train_epochs=3,\n",
    "    logging_strategy='steps',\n",
    "    per_device_train_batch_size=1,\n",
    "    per_device_eval_batch_size= 4,\n",
    "    save_strategy=\"epoch\",\n",
    "    evaluation_strategy='epoch',\n",
    "    gradient_accumulation_steps=2,\n",
    "    logging_steps=200,\n",
    "    save_steps=1000,\n",
    "    fp16=True,\n",
    "    optim=\"paged_adamw_32bit\",\n",
    "    eval_steps=1000,\n",
    "    learning_rate=2e-5,\n",
    "    max_grad_norm=0.3,\n",
    "    warmup_ratio=0.03,\n",
    "    lr_scheduler_type=\"constant\",\n",
    "    disable_tqdm=False\n",
    ")"
   ]
  },
  {
   "cell_type": "code",
   "execution_count": null,
   "id": "4d1c6a8a",
   "metadata": {},
   "outputs": [],
   "source": [
    "max_seq_length = 4096\n",
    "\n",
    "trainer = SFTTrainer(\n",
    "    model=model,\n",
    "    train_dataset=train_ds,\n",
    "    dataset_text_field=\"prompt\",\n",
    "    eval_dataset = test_ds,\n",
    "    peft_config=peft_config,\n",
    "    max_seq_length=max_seq_length,\n",
    "    tokenizer=tokenizer,\n",
    "    packing=False,\n",
    "    args=args,\n",
    ")"
   ]
  },
  {
   "cell_type": "code",
   "execution_count": null,
   "id": "259ca671",
   "metadata": {},
   "outputs": [],
   "source": [
    "trainer.train()\n",
    "trainer.save_model()"
   ]
  }
 ],
 "metadata": {
  "kernelspec": {
   "display_name": "Python 3 (ipykernel)",
   "language": "python",
   "name": "python3"
  },
  "language_info": {
   "codemirror_mode": {
    "name": "ipython",
    "version": 3
   },
   "file_extension": ".py",
   "mimetype": "text/x-python",
   "name": "python",
   "nbconvert_exporter": "python",
   "pygments_lexer": "ipython3",
   "version": "3.10.9"
  }
 },
 "nbformat": 4,
 "nbformat_minor": 5
}
